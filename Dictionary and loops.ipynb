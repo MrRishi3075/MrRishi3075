{
 "cells": [
  {
   "cell_type": "code",
   "execution_count": 1,
   "id": "cda4fa2d-2544-4ba7-acdd-920e4dd185ee",
   "metadata": {},
   "outputs": [],
   "source": [
    "d = {}"
   ]
  },
  {
   "cell_type": "code",
   "execution_count": 2,
   "id": "0308d6be-b4ec-46ed-bddd-9ccfb8d77a62",
   "metadata": {},
   "outputs": [
    {
     "data": {
      "text/plain": [
       "dict"
      ]
     },
     "execution_count": 2,
     "metadata": {},
     "output_type": "execute_result"
    }
   ],
   "source": [
    "type(d)"
   ]
  },
  {
   "cell_type": "code",
   "execution_count": 3,
   "id": "099d4765-e16a-4481-a7d0-e87a6685be58",
   "metadata": {},
   "outputs": [],
   "source": [
    "d1 = {'key' : \"rishi\"}"
   ]
  },
  {
   "cell_type": "code",
   "execution_count": 4,
   "id": "e345cb3c-25f5-4800-88ae-f2273750cb5a",
   "metadata": {},
   "outputs": [
    {
     "data": {
      "text/plain": [
       "{'key': 'rishi'}"
      ]
     },
     "execution_count": 4,
     "metadata": {},
     "output_type": "execute_result"
    }
   ],
   "source": [
    "d1"
   ]
  },
  {
   "cell_type": "code",
   "execution_count": 5,
   "id": "9a18c493-8879-43a8-ac9e-e37078b78edf",
   "metadata": {},
   "outputs": [],
   "source": [
    "d2 = {'name' : \"rishikes\" , \"email\" : \"rishikeshkumarssm55@gmail.com\" , \"number\" : 6290712466}"
   ]
  },
  {
   "cell_type": "code",
   "execution_count": 6,
   "id": "440e75a1-6b6a-449a-a337-3ecc349e0630",
   "metadata": {},
   "outputs": [
    {
     "data": {
      "text/plain": [
       "{'name': 'rishikes',\n",
       " 'email': 'rishikeshkumarssm55@gmail.com',\n",
       " 'number': 6290712466}"
      ]
     },
     "execution_count": 6,
     "metadata": {},
     "output_type": "execute_result"
    }
   ],
   "source": [
    "d2"
   ]
  },
  {
   "cell_type": "code",
   "execution_count": 7,
   "id": "daa97785-9740-416c-9089-6c4e041e2988",
   "metadata": {},
   "outputs": [],
   "source": [
    "d3 = {234 : \"rishi\" , '_rk' : \"kumar\", True :234234}"
   ]
  },
  {
   "cell_type": "code",
   "execution_count": 8,
   "id": "cb56cc6b-8d51-40de-b48e-2b9af6ef033c",
   "metadata": {},
   "outputs": [
    {
     "data": {
      "text/plain": [
       "{234: 'rishi', '_rk': 'kumar', True: 234234}"
      ]
     },
     "execution_count": 8,
     "metadata": {},
     "output_type": "execute_result"
    }
   ],
   "source": [
    "d3"
   ]
  },
  {
   "cell_type": "code",
   "execution_count": 9,
   "id": "36b4b9ee-9830-4ebe-ac12-885c3c6f1fff",
   "metadata": {},
   "outputs": [
    {
     "data": {
      "text/plain": [
       "'rishi'"
      ]
     },
     "execution_count": 9,
     "metadata": {},
     "output_type": "execute_result"
    }
   ],
   "source": [
    "d3[234]"
   ]
  },
  {
   "cell_type": "code",
   "execution_count": 10,
   "id": "4abed326-2bd5-4e47-8ae5-b2b100d4a13e",
   "metadata": {},
   "outputs": [
    {
     "data": {
      "text/plain": [
       "234234"
      ]
     },
     "execution_count": 10,
     "metadata": {},
     "output_type": "execute_result"
    }
   ],
   "source": [
    "d3[True]"
   ]
  },
  {
   "cell_type": "code",
   "execution_count": 11,
   "id": "95202ecd-f60d-45b7-a920-267d4342d673",
   "metadata": {},
   "outputs": [
    {
     "data": {
      "text/plain": [
       "234234"
      ]
     },
     "execution_count": 11,
     "metadata": {},
     "output_type": "execute_result"
    }
   ],
   "source": [
    "d3[1]"
   ]
  },
  {
   "cell_type": "code",
   "execution_count": 12,
   "id": "b08d3c4e-6f63-4dba-bf2e-ab496a397f72",
   "metadata": {},
   "outputs": [],
   "source": [
    "d4 = {'name':\"rishi\" , 'mail_id' :\"rr@gmail.com\" ,'name':\"rishikesh\"}"
   ]
  },
  {
   "cell_type": "code",
   "execution_count": 13,
   "id": "83b604ec-ec2c-4656-8f21-c10646786e08",
   "metadata": {},
   "outputs": [
    {
     "data": {
      "text/plain": [
       "'rishikesh'"
      ]
     },
     "execution_count": 13,
     "metadata": {},
     "output_type": "execute_result"
    }
   ],
   "source": [
    "d4['name']"
   ]
  },
  {
   "cell_type": "code",
   "execution_count": 14,
   "id": "3f18588f-668e-4876-a1c3-336c41f3d69a",
   "metadata": {},
   "outputs": [
    {
     "data": {
      "text/plain": [
       "'rr@gmail.com'"
      ]
     },
     "execution_count": 14,
     "metadata": {},
     "output_type": "execute_result"
    }
   ],
   "source": [
    "d4['mail_id']"
   ]
  },
  {
   "cell_type": "code",
   "execution_count": 15,
   "id": "bd0e11d8-8a1d-4f57-b6fc-16635ec5bd05",
   "metadata": {},
   "outputs": [],
   "source": [
    "d5 = {\"comp\" : \"pwskills\" , \"course\" :[\"web dev\" , \"data science\" , \"javawith DSA system desine\"]}"
   ]
  },
  {
   "cell_type": "code",
   "execution_count": 16,
   "id": "f20d9c60-8312-42c9-acf9-54df3466a5d9",
   "metadata": {},
   "outputs": [
    {
     "data": {
      "text/plain": [
       "{'comp': 'pwskills',\n",
       " 'course': ['web dev', 'data science', 'javawith DSA system desine']}"
      ]
     },
     "execution_count": 16,
     "metadata": {},
     "output_type": "execute_result"
    }
   ],
   "source": [
    "d5"
   ]
  },
  {
   "cell_type": "code",
   "execution_count": 17,
   "id": "ea7147df-cd2e-4b80-993e-8750299e4753",
   "metadata": {},
   "outputs": [
    {
     "data": {
      "text/plain": [
       "'javawith DSA system desine'"
      ]
     },
     "execution_count": 17,
     "metadata": {},
     "output_type": "execute_result"
    }
   ],
   "source": [
    "d5[\"course\"][2]"
   ]
  },
  {
   "cell_type": "code",
   "execution_count": 18,
   "id": "9068c697-14c0-4b7a-98cf-871e469544a4",
   "metadata": {},
   "outputs": [],
   "source": [
    "d6 = {\"number\" : [2,34,3,4,3,4,6,] , \"assignment\" :(1,2,3,4,5,6) , \"launch date\":{25,12,2024} , \"class timing\":{\"web dev\": 8 , \"data science\": 9 , \"java with DSA and system design\": 10}}"
   ]
  },
  {
   "cell_type": "code",
   "execution_count": 19,
   "id": "37a624b4-bdd3-472d-98fc-1da375955106",
   "metadata": {},
   "outputs": [
    {
     "data": {
      "text/plain": [
       "{'number': [2, 34, 3, 4, 3, 4, 6],\n",
       " 'assignment': (1, 2, 3, 4, 5, 6),\n",
       " 'launch date': {12, 25, 2024},\n",
       " 'class timing': {'web dev': 8,\n",
       "  'data science': 9,\n",
       "  'java with DSA and system design': 10}}"
      ]
     },
     "execution_count": 19,
     "metadata": {},
     "output_type": "execute_result"
    }
   ],
   "source": [
    "d6"
   ]
  },
  {
   "cell_type": "code",
   "execution_count": 20,
   "id": "3414db9c-81d9-4ce2-889f-6466c644d2db",
   "metadata": {},
   "outputs": [],
   "source": [
    "\n",
    "d6[\"mentor\"] = [\"sudhanshu\",\"krishna\",\"anurag\",\"hayder\"]"
   ]
  },
  {
   "cell_type": "code",
   "execution_count": 21,
   "id": "b04101c0-b86e-45cc-985a-0872de9aabe4",
   "metadata": {},
   "outputs": [
    {
     "data": {
      "text/plain": [
       "{'number': [2, 34, 3, 4, 3, 4, 6],\n",
       " 'assignment': (1, 2, 3, 4, 5, 6),\n",
       " 'launch date': {12, 25, 2024},\n",
       " 'class timing': {'web dev': 8,\n",
       "  'data science': 9,\n",
       "  'java with DSA and system design': 10},\n",
       " 'mentor': ['sudhanshu', 'krishna', 'anurag', 'hayder']}"
      ]
     },
     "execution_count": 21,
     "metadata": {},
     "output_type": "execute_result"
    }
   ],
   "source": [
    "d6"
   ]
  },
  {
   "cell_type": "code",
   "execution_count": 22,
   "id": "0a2b188b-d2ee-4286-9adc-dbeedbf05a98",
   "metadata": {},
   "outputs": [],
   "source": [
    "del d6['number']"
   ]
  },
  {
   "cell_type": "code",
   "execution_count": 23,
   "id": "66ceb9ad-ace6-45eb-98c2-9f7114ba090e",
   "metadata": {},
   "outputs": [
    {
     "data": {
      "text/plain": [
       "{'assignment': (1, 2, 3, 4, 5, 6),\n",
       " 'launch date': {12, 25, 2024},\n",
       " 'class timing': {'web dev': 8,\n",
       "  'data science': 9,\n",
       "  'java with DSA and system design': 10},\n",
       " 'mentor': ['sudhanshu', 'krishna', 'anurag', 'hayder']}"
      ]
     },
     "execution_count": 23,
     "metadata": {},
     "output_type": "execute_result"
    }
   ],
   "source": [
    "d6"
   ]
  },
  {
   "cell_type": "code",
   "execution_count": 24,
   "id": "7cbedaec-0997-4303-a2bc-e2863ff39b63",
   "metadata": {},
   "outputs": [
    {
     "data": {
      "text/plain": [
       "['assignment', 'launch date', 'class timing', 'mentor']"
      ]
     },
     "execution_count": 24,
     "metadata": {},
     "output_type": "execute_result"
    }
   ],
   "source": [
    "list(d6.keys())"
   ]
  },
  {
   "cell_type": "code",
   "execution_count": 25,
   "id": "7efcb4ac-a890-414b-9b8d-25114609f26c",
   "metadata": {},
   "outputs": [
    {
     "data": {
      "text/plain": [
       "[(1, 2, 3, 4, 5, 6),\n",
       " {12, 25, 2024},\n",
       " {'web dev': 8, 'data science': 9, 'java with DSA and system design': 10},\n",
       " ['sudhanshu', 'krishna', 'anurag', 'hayder']]"
      ]
     },
     "execution_count": 25,
     "metadata": {},
     "output_type": "execute_result"
    }
   ],
   "source": [
    "list(d6.values())"
   ]
  },
  {
   "cell_type": "markdown",
   "id": "b09a1982-41ef-42b8-a0ce-4b088fdf46d4",
   "metadata": {},
   "source": []
  },
  {
   "cell_type": "code",
   "execution_count": 26,
   "id": "4fe68300-b6cc-4546-a07e-143e73ebb20f",
   "metadata": {},
   "outputs": [
    {
     "data": {
      "text/plain": [
       "[('assignment', (1, 2, 3, 4, 5, 6)),\n",
       " ('launch date', {12, 25, 2024}),\n",
       " ('class timing',\n",
       "  {'web dev': 8, 'data science': 9, 'java with DSA and system design': 10}),\n",
       " ('mentor', ['sudhanshu', 'krishna', 'anurag', 'hayder'])]"
      ]
     },
     "execution_count": 26,
     "metadata": {},
     "output_type": "execute_result"
    }
   ],
   "source": [
    "list(d6.items())"
   ]
  },
  {
   "cell_type": "code",
   "execution_count": 27,
   "id": "f56c17ba-46a6-42dc-b765-413a4be1f2e7",
   "metadata": {},
   "outputs": [
    {
     "data": {
      "text/plain": [
       "(1, 2, 3, 4, 5, 6)"
      ]
     },
     "execution_count": 27,
     "metadata": {},
     "output_type": "execute_result"
    }
   ],
   "source": [
    "d6.pop('assignment')"
   ]
  },
  {
   "cell_type": "code",
   "execution_count": 28,
   "id": "7f73eee0-703e-494e-8170-46b2737a6db3",
   "metadata": {},
   "outputs": [
    {
     "data": {
      "text/plain": [
       "{'launch date': {12, 25, 2024},\n",
       " 'class timing': {'web dev': 8,\n",
       "  'data science': 9,\n",
       "  'java with DSA and system design': 10},\n",
       " 'mentor': ['sudhanshu', 'krishna', 'anurag', 'hayder']}"
      ]
     },
     "execution_count": 28,
     "metadata": {},
     "output_type": "execute_result"
    }
   ],
   "source": [
    "d6"
   ]
  },
  {
   "cell_type": "code",
   "execution_count": 29,
   "id": "042ac667-6f15-4832-93df-881eb6e6262c",
   "metadata": {},
   "outputs": [
    {
     "data": {
      "text/plain": [
       "['sudhanshu', 'krishna', 'anurag', 'hayder']"
      ]
     },
     "execution_count": 29,
     "metadata": {},
     "output_type": "execute_result"
    }
   ],
   "source": [
    "d6.pop(\"mentor\")"
   ]
  },
  {
   "cell_type": "code",
   "execution_count": 30,
   "id": "edebc2c7-0bc3-4323-ac93-9451c6dcd13b",
   "metadata": {},
   "outputs": [
    {
     "data": {
      "text/plain": [
       "{'launch date': {12, 25, 2024},\n",
       " 'class timing': {'web dev': 8,\n",
       "  'data science': 9,\n",
       "  'java with DSA and system design': 10}}"
      ]
     },
     "execution_count": 30,
     "metadata": {},
     "output_type": "execute_result"
    }
   ],
   "source": [
    "d6"
   ]
  },
  {
   "cell_type": "code",
   "execution_count": 31,
   "id": "aeab9716-3120-4b01-8ef9-b8de6a61b5bd",
   "metadata": {},
   "outputs": [
    {
     "name": "stdin",
     "output_type": "stream",
     "text": [
      "enter your marks  45\n"
     ]
    },
    {
     "name": "stdout",
     "output_type": "stream",
     "text": [
      "you will be part of A2 batch\n"
     ]
    }
   ],
   "source": [
    "marks = marks = int(input(\"enter your marks \"))\n",
    "if marks >= 80:\n",
    "    print(\"you will be part of A0 batch\")\n",
    "elif marks >= 60 and marks <80:\n",
    "    print(\"you will be part of A1 batch\")\n",
    "elif marks >=40 and marks <60:\n",
    "    print(\"you will be part of A2 batch\")\n",
    "else:\n",
    "    print(\"you will be part of A3 batch\")\n"
   ]
  },
  {
   "cell_type": "code",
   "execution_count": 32,
   "id": "00dd372b-6171-42f1-875d-556a50192121",
   "metadata": {},
   "outputs": [
    {
     "data": {
      "text/plain": [
       "45"
      ]
     },
     "execution_count": 32,
     "metadata": {},
     "output_type": "execute_result"
    }
   ],
   "source": [
    "marks"
   ]
  },
  {
   "cell_type": "code",
   "execution_count": 33,
   "id": "751a77eb-9a69-4e3b-8d7e-eed410802a5f",
   "metadata": {},
   "outputs": [
    {
     "data": {
      "text/plain": [
       "int"
      ]
     },
     "execution_count": 33,
     "metadata": {},
     "output_type": "execute_result"
    }
   ],
   "source": [
    "type(marks)"
   ]
  },
  {
   "cell_type": "code",
   "execution_count": 34,
   "id": "9ec8d259-c8fb-4fbd-8221-41988b173f68",
   "metadata": {},
   "outputs": [
    {
     "name": "stdin",
     "output_type": "stream",
     "text": [
      "enter price  7000\n"
     ]
    },
    {
     "name": "stdout",
     "output_type": "stream",
     "text": [
      "i will not purchase\n"
     ]
    }
   ],
   "source": [
    "price = int(input(\"enter price \" ))\n",
    "if price > 1000:\n",
    "    print(\"i will not purchase\")\n",
    "else :\n",
    "    print(\"i will purchase\")"
   ]
  },
  {
   "cell_type": "code",
   "execution_count": 39,
   "id": "caa7e02e-f493-434f-ba79-5e790ac5396d",
   "metadata": {},
   "outputs": [
    {
     "name": "stdin",
     "output_type": "stream",
     "text": [
      "enter price  1500\n"
     ]
    },
    {
     "name": "stdout",
     "output_type": "stream",
     "text": [
      "i will not purchase\n",
      "its ok\n"
     ]
    }
   ],
   "source": [
    "price = int(input(\"enter price \" ))\n",
    "if price > 1000:\n",
    "    print(\"i will not purchase\")\n",
    "    if price >5000:\n",
    "        print(\"this is too much\")\n",
    "    elif price < 2000 :\n",
    "        print(\"its ok\")\n",
    "elif price  < 1000 :\n",
    "    print(\"i will purchase\")\n",
    "else :\n",
    "    print(\"not interested \")\n",
    "    "
   ]
  },
  {
   "cell_type": "code",
   "execution_count": 41,
   "id": "eb5ad51d-a80e-45dd-a75c-1382e231fd2b",
   "metadata": {},
   "outputs": [],
   "source": [
    "l = [1,2,3,4,5,6,7,8,9]"
   ]
  },
  {
   "cell_type": "code",
   "execution_count": 43,
   "id": "09305206-098c-47c7-b89c-127b3f6873a1",
   "metadata": {},
   "outputs": [
    {
     "data": {
      "text/plain": [
       "2"
      ]
     },
     "execution_count": 43,
     "metadata": {},
     "output_type": "execute_result"
    }
   ],
   "source": [
    "l[0]+1"
   ]
  },
  {
   "cell_type": "code",
   "execution_count": 44,
   "id": "0e739d0a-ea65-4318-828b-d078bb5c09d2",
   "metadata": {},
   "outputs": [],
   "source": [
    "l1 = []"
   ]
  },
  {
   "cell_type": "code",
   "execution_count": 45,
   "id": "9f78a048-a0d4-4c0e-9434-34794bbefd65",
   "metadata": {},
   "outputs": [],
   "source": [
    "l1.append(l[0]+1)"
   ]
  },
  {
   "cell_type": "code",
   "execution_count": 46,
   "id": "f1d42976-2fa5-4b59-bdec-edaf7c3facf9",
   "metadata": {},
   "outputs": [
    {
     "data": {
      "text/plain": [
       "[2]"
      ]
     },
     "execution_count": 46,
     "metadata": {},
     "output_type": "execute_result"
    }
   ],
   "source": [
    "l1"
   ]
  },
  {
   "cell_type": "code",
   "execution_count": 47,
   "id": "31a6f3df-028b-4ff8-b0bf-5894b50b8d38",
   "metadata": {},
   "outputs": [],
   "source": [
    "l = [1,2,3,4,5,6,7,8,9]"
   ]
  },
  {
   "cell_type": "code",
   "execution_count": 51,
   "id": "e8ba18ad-547c-478f-9b9b-9652e2766b3c",
   "metadata": {},
   "outputs": [
    {
     "name": "stdout",
     "output_type": "stream",
     "text": [
      "2\n",
      "3\n",
      "4\n",
      "5\n",
      "6\n",
      "7\n",
      "8\n",
      "9\n",
      "10\n"
     ]
    },
    {
     "data": {
      "text/plain": [
       "[2, 3, 4, 5, 6, 7, 8, 9, 10]"
      ]
     },
     "execution_count": 51,
     "metadata": {},
     "output_type": "execute_result"
    }
   ],
   "source": [
    "l1 = []\n",
    "for i in l :\n",
    "    print(i+1)\n",
    "    l1.append(i+1)\n",
    "l1"
   ]
  },
  {
   "cell_type": "code",
   "execution_count": 52,
   "id": "5212cdf6-1bab-48ca-829a-4308b3eb03d6",
   "metadata": {},
   "outputs": [
    {
     "data": {
      "text/plain": [
       "[2, 3, 4, 5, 6, 7, 8, 9, 10]"
      ]
     },
     "execution_count": 52,
     "metadata": {},
     "output_type": "execute_result"
    }
   ],
   "source": [
    "l1"
   ]
  },
  {
   "cell_type": "code",
   "execution_count": 53,
   "id": "90cd8071-1316-4d73-a037-27876e4f4dab",
   "metadata": {},
   "outputs": [
    {
     "data": {
      "text/plain": [
       "[1, 2, 3, 4, 5, 6, 7, 8, 9]"
      ]
     },
     "execution_count": 53,
     "metadata": {},
     "output_type": "execute_result"
    }
   ],
   "source": [
    "l"
   ]
  },
  {
   "cell_type": "code",
   "execution_count": 54,
   "id": "403fe4bf-6ad3-495a-8d03-0218afdf4c23",
   "metadata": {},
   "outputs": [],
   "source": [
    "l = [\"rishi\" , \"kumar\" , \"pwskills\" , \"course\"]"
   ]
  },
  {
   "cell_type": "code",
   "execution_count": 56,
   "id": "10190a39-add5-4563-b435-94e334ce9198",
   "metadata": {},
   "outputs": [
    {
     "name": "stdout",
     "output_type": "stream",
     "text": [
      "rishi\n",
      "kumar\n",
      "pwskills\n",
      "course\n"
     ]
    }
   ],
   "source": [
    "l1 = []\n",
    "for i in l :\n",
    "    print(i)\n",
    "    l1.append(i.upper())"
   ]
  },
  {
   "cell_type": "code",
   "execution_count": 57,
   "id": "ecd9cd90-ace7-45e0-adf6-9656ed71978c",
   "metadata": {},
   "outputs": [
    {
     "data": {
      "text/plain": [
       "['RISHI', 'KUMAR', 'PWSKILLS', 'COURSE']"
      ]
     },
     "execution_count": 57,
     "metadata": {},
     "output_type": "execute_result"
    }
   ],
   "source": [
    "l1"
   ]
  },
  {
   "cell_type": "code",
   "execution_count": 60,
   "id": "ef100cdb-991f-4327-be2b-c293d3bcaebd",
   "metadata": {},
   "outputs": [],
   "source": [
    "l = [1,2,3,4,4,\"rishi\" , \"kumar\" ,\"pwskills\", 324,3.565,\"abc\"]"
   ]
  },
  {
   "cell_type": "code",
   "execution_count": 64,
   "id": "72d9170a-47c1-492d-89be-6c9c224887b7",
   "metadata": {},
   "outputs": [],
   "source": [
    "l1_num = []\n",
    "l2_str = []\n",
    "for i in l :\n",
    "    if type(i) == int or type(i) == float :\n",
    "        l1_num.append(i)\n",
    "    else :\n",
    "        l2_str.append(i)        \n",
    "    "
   ]
  },
  {
   "cell_type": "code",
   "execution_count": 65,
   "id": "537c212f-4c5a-4bdd-a2f4-a8ea1ae78b24",
   "metadata": {},
   "outputs": [
    {
     "data": {
      "text/plain": [
       "[1, 2, 3, 4, 4, 324, 3.565]"
      ]
     },
     "execution_count": 65,
     "metadata": {},
     "output_type": "execute_result"
    }
   ],
   "source": [
    "l1_num"
   ]
  },
  {
   "cell_type": "code",
   "execution_count": 69,
   "id": "977dc30e-99b9-4158-a15a-91768f9de8aa",
   "metadata": {},
   "outputs": [
    {
     "data": {
      "text/plain": [
       "['rishi', 'kumar', 'pwskills', 'abc']"
      ]
     },
     "execution_count": 69,
     "metadata": {},
     "output_type": "execute_result"
    }
   ],
   "source": [
    "l2_str"
   ]
  },
  {
   "cell_type": "code",
   "execution_count": null,
   "id": "80a998a6-276c-4e26-84bb-e9224839db40",
   "metadata": {},
   "outputs": [],
   "source": []
  }
 ],
 "metadata": {
  "kernelspec": {
   "display_name": "Python 3 (ipykernel)",
   "language": "python",
   "name": "python3"
  },
  "language_info": {
   "codemirror_mode": {
    "name": "ipython",
    "version": 3
   },
   "file_extension": ".py",
   "mimetype": "text/x-python",
   "name": "python",
   "nbconvert_exporter": "python",
   "pygments_lexer": "ipython3",
   "version": "3.10.8"
  }
 },
 "nbformat": 4,
 "nbformat_minor": 5
}
